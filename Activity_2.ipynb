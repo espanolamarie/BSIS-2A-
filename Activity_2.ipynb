{
  "nbformat": 4,
  "nbformat_minor": 0,
  "metadata": {
    "colab": {
      "provenance": [],
      "authorship_tag": "ABX9TyOI4dDtlZ2Tj7irzu9vlumA",
      "include_colab_link": true
    },
    "kernelspec": {
      "name": "python3",
      "display_name": "Python 3"
    },
    "language_info": {
      "name": "python"
    }
  },
  "cells": [
    {
      "cell_type": "markdown",
      "metadata": {
        "id": "view-in-github",
        "colab_type": "text"
      },
      "source": [
        "<a href=\"https://colab.research.google.com/github/espanolamarie/BSIS-2A-/blob/main/Activity_2.ipynb\" target=\"_parent\"><img src=\"https://colab.research.google.com/assets/colab-badge.svg\" alt=\"Open In Colab\"/></a>"
      ]
    },
    {
      "cell_type": "code",
      "execution_count": null,
      "metadata": {
        "id": "ZKoVGeb6Vc_O"
      },
      "outputs": [],
      "source": [
        "import pandas as pd\n",
        "import numpy as np"
      ]
    },
    {
      "cell_type": "code",
      "source": [
        "df = pd.read_csv(\"https://raw.githubusercontent.com/espanolamarie/BSIS-2A-/main/SALARY_DATA.csv\")"
      ],
      "metadata": {
        "id": "rLA6O297V5hs"
      },
      "execution_count": null,
      "outputs": []
    },
    {
      "cell_type": "code",
      "source": [],
      "metadata": {
        "id": "rLVEY17LYxWj"
      },
      "execution_count": null,
      "outputs": []
    },
    {
      "cell_type": "code",
      "source": [
        "print(df)"
      ],
      "metadata": {
        "colab": {
          "base_uri": "https://localhost:8080/"
        },
        "id": "4HTdwX3oWbqh",
        "outputId": "40ac3948-cb07-4e53-afc3-8229b98b5666"
      },
      "execution_count": null,
      "outputs": [
        {
          "output_type": "stream",
          "name": "stdout",
          "text": [
            "    Employee ID     Name  Age Department  Salary\n",
            "0             1    Alice   45         Hr   54000\n",
            "1             2      Bob   52         It   78000\n",
            "2             3  Charlie   37    Finance   66000\n",
            "3             4    David   28  Markiting   72000\n",
            "4             5      Eva   41      Sales   85000\n",
            "5             6    Frank   53         It   90000\n",
            "6             7    Grace   32    Finance   62000\n",
            "7             8    Henry   25         Hr   40000\n",
            "8             9      Ivy   48      Sales   94000\n",
            "9            10     Jack   39  Markiting   70000\n",
            "10           11    Karen   29         It   65000\n",
            "11           12      Leo   44    Finance   86000\n",
            "12           13     Mona   33         Hr   47000\n",
            "13           14     Nina   51      Sales   88000\n",
            "14           15    Oscar   36  Markiting   56000\n"
          ]
        }
      ]
    },
    {
      "cell_type": "code",
      "source": [
        "mean_salary = df['Salary'].mean()"
      ],
      "metadata": {
        "id": "JUj2wj9MWhcl"
      },
      "execution_count": null,
      "outputs": []
    },
    {
      "cell_type": "code",
      "source": [
        "print(mean_salary)"
      ],
      "metadata": {
        "colab": {
          "base_uri": "https://localhost:8080/"
        },
        "id": "TYHbTE_HWwYK",
        "outputId": "012b6c07-aa19-4685-aa40-0b019323dfab"
      },
      "execution_count": null,
      "outputs": [
        {
          "output_type": "stream",
          "name": "stdout",
          "text": [
            "70200.0\n"
          ]
        }
      ]
    },
    {
      "cell_type": "code",
      "source": [
        "median_salary = df['Salary'].mean()"
      ],
      "metadata": {
        "id": "RJ7MauTeW1Q2"
      },
      "execution_count": null,
      "outputs": []
    },
    {
      "cell_type": "code",
      "source": [
        "print(median_salary)"
      ],
      "metadata": {
        "colab": {
          "base_uri": "https://localhost:8080/"
        },
        "id": "Tc-kfqI1XLWb",
        "outputId": "349d85d2-34e3-4a40-e498-deeb0ab2d987"
      },
      "execution_count": null,
      "outputs": [
        {
          "output_type": "stream",
          "name": "stdout",
          "text": [
            "70200.0\n"
          ]
        }
      ]
    },
    {
      "cell_type": "code",
      "source": [
        "std_salary = df['Salary'].std()"
      ],
      "metadata": {
        "id": "wP6rUdrjXTrF"
      },
      "execution_count": null,
      "outputs": []
    },
    {
      "cell_type": "code",
      "source": [
        "print(std_salary)"
      ],
      "metadata": {
        "colab": {
          "base_uri": "https://localhost:8080/"
        },
        "id": "81i7LmwaXivY",
        "outputId": "05b6a8be-e8ad-4660-abd0-9dbd79d1eb23"
      },
      "execution_count": null,
      "outputs": [
        {
          "output_type": "stream",
          "name": "stdout",
          "text": [
            "16549.4928709527\n"
          ]
        }
      ]
    },
    {
      "cell_type": "code",
      "source": [
        "total_salary = df['Salary'].sum()"
      ],
      "metadata": {
        "id": "fip_7JxVXqIk"
      },
      "execution_count": null,
      "outputs": []
    },
    {
      "cell_type": "code",
      "source": [
        "print(total_salary)"
      ],
      "metadata": {
        "colab": {
          "base_uri": "https://localhost:8080/"
        },
        "id": "YnLADIq-X3Kz",
        "outputId": "a13580fc-dcb7-455c-ef4a-368616e0c09d"
      },
      "execution_count": null,
      "outputs": [
        {
          "output_type": "stream",
          "name": "stdout",
          "text": [
            "1053000\n"
          ]
        }
      ]
    }
  ]
}